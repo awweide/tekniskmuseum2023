{
 "cells": [
  {
   "cell_type": "code",
   "execution_count": 1,
   "id": "c149610b",
   "metadata": {},
   "outputs": [],
   "source": [
    "#This notebook should only require\n",
    "   ###Machine learning framework, cpu only\n",
    "#conda install pytorch torchvision cpuonly -c pytorch\n",
    "   ###Plotting/visualization library, for displaying MNIST images\n",
    "#conda install matplotlib\n",
    "\n",
    "import torch\n",
    "import torchvision\n",
    "import torch.nn as nn\n",
    "import torch.nn.functional as F\n",
    "import torch.optim as optim\n",
    "\n",
    "import matplotlib.pyplot as plt"
   ]
  },
  {
   "cell_type": "code",
   "execution_count": 2,
   "id": "36eac184",
   "metadata": {},
   "outputs": [],
   "source": [
    "n_epochs = 5\n",
    "batch_size = 64\n",
    "learning_rate = 0.01\n",
    "momentum = 0.5\n",
    "model_dimension = 4\n",
    "\n",
    "#This notebook is set up to run without GPU-support\n",
    "torch.backends.cudnn.enabled = False"
   ]
  },
  {
   "cell_type": "code",
   "execution_count": 3,
   "id": "8e99a27c",
   "metadata": {},
   "outputs": [],
   "source": [
    "train_loader = torch.utils.data.DataLoader(\n",
    "  torchvision.datasets.MNIST('/files/', train=True, download=True,\n",
    "                             transform=torchvision.transforms.Compose([\n",
    "                               torchvision.transforms.ToTensor(),\n",
    "                               torchvision.transforms.Normalize(\n",
    "                                 (0.1307,), (0.3081,))\n",
    "                             ])),\n",
    "  batch_size=batch_size, shuffle=True)\n",
    "\n",
    "test_loader = torch.utils.data.DataLoader(\n",
    "  torchvision.datasets.MNIST('/files/', train=False, download=True,\n",
    "                             transform=torchvision.transforms.Compose([\n",
    "                               torchvision.transforms.ToTensor(),\n",
    "                               torchvision.transforms.Normalize(\n",
    "                                 (0.1307,), (0.3081,))\n",
    "                             ])),\n",
    "  batch_size=batch_size, shuffle=True)"
   ]
  },
  {
   "cell_type": "code",
   "execution_count": 4,
   "id": "80329bf2",
   "metadata": {},
   "outputs": [],
   "source": [
    "class Net(nn.Module):\n",
    "    def __init__(self, m_dim):\n",
    "        super(Net, self).__init__()\n",
    "        self.fc1 = nn.Linear(28*28, m_dim)\n",
    "        self.fc2 = nn.Linear(m_dim, m_dim)\n",
    "        self.fc3 = nn.Linear(m_dim, 10)\n",
    "\n",
    "    def forward(self, x):\n",
    "        x = x.view(-1, 28*28)\n",
    "        x = F.relu(self.fc1(x))\n",
    "        x = F.relu(self.fc2(x))\n",
    "        x = self.fc3(x)\n",
    "        return F.log_softmax(x, dim=1)\n",
    "network = Net(model_dimension)\n",
    "optimizer = optim.SGD(network.parameters(), lr=learning_rate, momentum=momentum)"
   ]
  },
  {
   "cell_type": "code",
   "execution_count": 5,
   "id": "b86b799c",
   "metadata": {},
   "outputs": [],
   "source": [
    "def train():\n",
    "  network.train()\n",
    "  for batch_idx, (data, target) in enumerate(train_loader):\n",
    "    optimizer.zero_grad()\n",
    "    output = network(data)\n",
    "    loss = F.nll_loss(output, target)\n",
    "    loss.backward()\n",
    "    optimizer.step()\n"
   ]
  },
  {
   "cell_type": "code",
   "execution_count": 6,
   "id": "f0f72f13",
   "metadata": {},
   "outputs": [],
   "source": [
    "def test(epoch):\n",
    "  network.eval()\n",
    "  test_loss = 0\n",
    "  correct = 0\n",
    "  with torch.no_grad():\n",
    "    for data, target in test_loader:\n",
    "      output = network(data)\n",
    "      test_loss += F.nll_loss(output, target, size_average=False).item()\n",
    "      pred = output.data.max(1, keepdim=True)[1]\n",
    "      correct += pred.eq(target.data.view_as(pred)).sum()\n",
    "  test_loss /= len(test_loader.dataset)\n",
    "  print('\\nTest set, {:.0f} epochs: Avg. loss: {:.4f}, Accuracy: {}/{} ({:.0f}%)\\n'.format(\n",
    "    epoch, test_loss, correct, len(test_loader.dataset),\n",
    "    100. * correct / len(test_loader.dataset)))"
   ]
  },
  {
   "cell_type": "code",
   "execution_count": 7,
   "id": "5e6f6184",
   "metadata": {},
   "outputs": [],
   "source": [
    "def debug(n = 0):\n",
    "  network.eval()\n",
    "  with torch.no_grad():\n",
    "    for ix,(data, target) in enumerate(test_loader):\n",
    "      output = network(data)\n",
    "      pred = output.data.max(1, keepdim=False)[1]\n",
    "      if ix == n: break\n",
    "  fig = plt.figure()\n",
    "  for i in range(5*5):\n",
    "    plt.subplot(5,5,i+1)\n",
    "    plt.tight_layout()\n",
    "    plt.imshow(data[i][0], cmap='gray', interpolation='none')\n",
    "    plt.title(\"NN:{}, Data:{}\".format(pred[i], target[i]))\n",
    "    plt.xticks([])\n",
    "    plt.yticks([])\n",
    "  fig"
   ]
  },
  {
   "cell_type": "code",
   "execution_count": 8,
   "id": "f6ef4c7f",
   "metadata": {},
   "outputs": [
    {
     "name": "stderr",
     "output_type": "stream",
     "text": [
      "C:\\Users\\akeid\\AppData\\Local\\miniconda3\\envs\\tekmus\\lib\\site-packages\\torch\\nn\\_reduction.py:42: UserWarning: size_average and reduce args will be deprecated, please use reduction='sum' instead.\n",
      "  warnings.warn(warning.format(ret))\n"
     ]
    },
    {
     "name": "stdout",
     "output_type": "stream",
     "text": [
      "\n",
      "Test set, 0 epochs: Avg. loss: 2.3466, Accuracy: 1037/10000 (10%)\n",
      "\n",
      "\n",
      "Test set, 1 epochs: Avg. loss: 0.8961, Accuracy: 7380/10000 (74%)\n",
      "\n",
      "\n",
      "Test set, 2 epochs: Avg. loss: 0.5857, Accuracy: 8350/10000 (84%)\n",
      "\n",
      "\n",
      "Test set, 3 epochs: Avg. loss: 0.5544, Accuracy: 8416/10000 (84%)\n",
      "\n",
      "\n",
      "Test set, 4 epochs: Avg. loss: 0.5402, Accuracy: 8414/10000 (84%)\n",
      "\n",
      "\n",
      "Test set, 5 epochs: Avg. loss: 0.5087, Accuracy: 8522/10000 (85%)\n",
      "\n"
     ]
    },
    {
     "data": {
      "image/png": "[encoded data removed]",
      "text/plain": [
       "<Figure size 640x480 with 25 Axes>"
      ]
     },
     "metadata": {},
     "output_type": "display_data"
    }
   ],
   "source": [
    "for i in range(n_epochs):\n",
    "    if i == 0: test(i)\n",
    "    train()\n",
    "    test(i+1)\n",
    "debug()"
   ]
  },
  {
   "cell_type": "code",
   "execution_count": null,
   "id": "f6b26552",
   "metadata": {},
   "outputs": [],
   "source": []
  },
  {
   "cell_type": "code",
   "execution_count": 36,
   "id": "1b41ab98",
   "metadata": {},
   "outputs": [],
   "source": [
    "#ConvNet\n",
    "#Running this block will \"overwrite\" the FCNN network defined earlier: you can re-run the training loop to test this network.\n",
    "class Net(nn.Module):\n",
    "    def __init__(self, m_dim):\n",
    "        super(Net, self).__init__()\n",
    "        self.conv1 = nn.Conv2d(1, 10, kernel_size=5)\n",
    "        self.conv2 = nn.Conv2d(10, 20, kernel_size=5)\n",
    "        self.conv2_drop = nn.Dropout2d()\n",
    "        self.fc1 = nn.Linear(320, 50)\n",
    "        self.fc2 = nn.Linear(50, 10)\n",
    "\n",
    "    def forward(self, x):\n",
    "        x = F.relu(F.max_pool2d(self.conv1(x), 2))\n",
    "        x = F.relu(F.max_pool2d(self.conv2_drop(self.conv2(x)), 2))\n",
    "        x = x.view(-1, 320)\n",
    "        x = F.relu(self.fc1(x))\n",
    "        x = F.dropout(x, training=self.training)\n",
    "        x = self.fc2(x)\n",
    "        return F.log_softmax(x, dim=1)\n",
    "\n",
    "network = Net(model_dimension)\n",
    "optimizer = optim.SGD(network.parameters(), lr=learning_rate, momentum=momentum)"
   ]
  }
 ],
 "metadata": {
  "kernelspec": {
   "display_name": "Python 3 (ipykernel)",
   "language": "python",
   "name": "python3"
  },
  "language_info": {
   "codemirror_mode": {
    "name": "ipython",
    "version": 3
   },
   "file_extension": ".py",
   "mimetype": "text/x-python",
   "name": "python",
   "nbconvert_exporter": "python",
   "pygments_lexer": "ipython3",
   "version": "3.9.16"
  }
 },
 "nbformat": 4,
 "nbformat_minor": 5
}
