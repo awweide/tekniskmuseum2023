{
 "cells": [
  {
   "cell_type": "markdown",
   "id": "8b29aaec",
   "metadata": {},
   "source": [
    "Simple code for simulating the probability of hitting a specific target value\n",
    "when rolling dice and summing until reaching (or exceeding) the target value\n",
    "\n",
    "Open questions:\n",
    " - why is the value greater than 1/6 ?\n",
    " - how does the value depend on the target sum and the kind of dice used?\n",
    "    - what are the most and least likely targets to hit?\n",
    "    - what happens for \"large\" target values\n",
    " - can we find a closed-form (exact) expression for the probability?"
   ]
  },
  {
   "cell_type": "code",
   "execution_count": 51,
   "id": "bfa9ff01",
   "metadata": {},
   "outputs": [
    {
     "data": {
      "text/plain": [
       "1"
      ]
     },
     "execution_count": 51,
     "metadata": {},
     "output_type": "execute_result"
    }
   ],
   "source": [
    "from random import randint\n",
    "#Returns a random integer inclusive-from inclusive-to\n",
    "randint(1,2)"
   ]
  },
  {
   "cell_type": "code",
   "execution_count": 52,
   "id": "dce5d483",
   "metadata": {},
   "outputs": [
    {
     "data": {
      "text/plain": [
       "False"
      ]
     },
     "execution_count": 52,
     "metadata": {},
     "output_type": "execute_result"
    }
   ],
   "source": [
    "def simulate(target=21, die=6):\n",
    "    current_sum = 0\n",
    "    while current_sum < target:\n",
    "        current_sum += randint(1, die)\n",
    "    return current_sum == target\n",
    "simulate()"
   ]
  },
  {
   "cell_type": "code",
   "execution_count": 53,
   "id": "5fa9387f",
   "metadata": {},
   "outputs": [],
   "source": [
    "def simulate_batch(runs=1000, target=21, die=6):\n",
    "    hits = 0\n",
    "    for run in range(runs):\n",
    "        if simulate(target, die): hits += 1\n",
    "    return hits / runs"
   ]
  },
  {
   "cell_type": "code",
   "execution_count": 54,
   "id": "e4038478",
   "metadata": {},
   "outputs": [
    {
     "data": {
      "text/plain": [
       "0.175"
      ]
     },
     "execution_count": 54,
     "metadata": {},
     "output_type": "execute_result"
    }
   ],
   "source": [
    "simulate_batch(target=2, die=6)"
   ]
  },
  {
   "cell_type": "code",
   "execution_count": 61,
   "id": "f16783d6",
   "metadata": {},
   "outputs": [
    {
     "name": "stdout",
     "output_type": "stream",
     "text": [
      "Target value: 1, estimated probability: 0.15\n",
      "Target value: 2, estimated probability: 0.24\n",
      "Target value: 3, estimated probability: 0.25\n",
      "Target value: 4, estimated probability: 0.29\n"
     ]
    }
   ],
   "source": [
    "for target in range(1, 5):\n",
    "    probability = simulate_batch(runs = 100, target=target, die=6)\n",
    "    print(f\"Target value: {target}, estimated probability: {probability}\")"
   ]
  },
  {
   "cell_type": "code",
   "execution_count": null,
   "id": "916e725e",
   "metadata": {},
   "outputs": [],
   "source": []
  }
 ],
 "metadata": {
  "kernelspec": {
   "display_name": "Python 3 (ipykernel)",
   "language": "python",
   "name": "python3"
  },
  "language_info": {
   "codemirror_mode": {
    "name": "ipython",
    "version": 3
   },
   "file_extension": ".py",
   "mimetype": "text/x-python",
   "name": "python",
   "nbconvert_exporter": "python",
   "pygments_lexer": "ipython3",
   "version": "3.9.16"
  }
 },
 "nbformat": 4,
 "nbformat_minor": 5
}
